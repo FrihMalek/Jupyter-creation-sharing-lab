{
 "cells": [
  {
   "cell_type": "markdown",
   "id": "bd82b280",
   "metadata": {},
   "source": [
    "# Data Science Tools and Ecosystem"
   ]
  },
  {
   "cell_type": "markdown",
   "id": "0c6b60b8",
   "metadata": {},
   "source": [
    "*In this notebook, Data Science Tools and Ecosystem are summarized.*"
   ]
  },
  {
   "cell_type": "markdown",
   "id": "b05cc234",
   "metadata": {},
   "source": [
    "**Objectives:**\n",
    "* List popular languages for DS.\n",
    "* Name common libraries used for DS.\n",
    "* List open-source tools used in DS.\n",
    "* Learn to make arithmetic expressions using Python."
   ]
  },
  {
   "cell_type": "markdown",
   "id": "3b7ab743",
   "metadata": {},
   "source": [
    "## Author\n",
    "Malek FRIH."
   ]
  },
  {
   "cell_type": "markdown",
   "id": "266ad384",
   "metadata": {},
   "source": [
    "\n",
    "\n",
    "##### Some of the popular languages that Data Scientists use are:\n",
    "1. Python\n",
    "2. R\n",
    "3. SQL\n",
    "4. Scala"
   ]
  },
  {
   "cell_type": "markdown",
   "id": "8f223cbe",
   "metadata": {},
   "source": [
    "\n",
    "##### Some of the commonly used libraries used by Data Scientists include:\n",
    "1. Numpy\n",
    "2. Pandas\n",
    "3. TensorFlow\n",
    "4. Matplotlib\n",
    "5. Keras\n",
    "6. Scikit-learn\n"
   ]
  },
  {
   "cell_type": "markdown",
   "id": "e13f6845",
   "metadata": {},
   "source": [
    "|Data Science Tools|\n",
    "|------------------|\n",
    "|Jupyter |\n",
    "|MySQL |\n",
    "|Hadoop File System |\n",
    "|Apache Spark |"
   ]
  },
  {
   "cell_type": "markdown",
   "id": "41c27cd7",
   "metadata": {},
   "source": [
    "### Below are a few examples of evaluating arithmetic expressions in Python"
   ]
  },
  {
   "cell_type": "code",
   "execution_count": 7,
   "id": "520e0646",
   "metadata": {},
   "outputs": [
    {
     "data": {
      "text/plain": [
       "17"
      ]
     },
     "execution_count": 7,
     "metadata": {},
     "output_type": "execute_result"
    }
   ],
   "source": [
    "# This a simple arithmetic expression to mutiply then add integers\n",
    "\n",
    "(3*4)+5"
   ]
  },
  {
   "cell_type": "code",
   "execution_count": 8,
   "id": "a8bcf4c6",
   "metadata": {},
   "outputs": [
    {
     "name": "stdout",
     "output_type": "stream",
     "text": [
      "3.3333333333333335\n"
     ]
    }
   ],
   "source": [
    "# This will convert 200 minutes to hours by diving by 60\n",
    "\n",
    "print(f'{200/60}')"
   ]
  },
  {
   "cell_type": "code",
   "execution_count": null,
   "id": "8fc3ebec",
   "metadata": {},
   "outputs": [],
   "source": []
  }
 ],
 "metadata": {
  "kernelspec": {
   "display_name": "Python 3",
   "language": "python",
   "name": "python3"
  },
  "language_info": {
   "codemirror_mode": {
    "name": "ipython",
    "version": 3
   },
   "file_extension": ".py",
   "mimetype": "text/x-python",
   "name": "python",
   "nbconvert_exporter": "python",
   "pygments_lexer": "ipython3",
   "version": "3.8.8"
  }
 },
 "nbformat": 4,
 "nbformat_minor": 5
}
